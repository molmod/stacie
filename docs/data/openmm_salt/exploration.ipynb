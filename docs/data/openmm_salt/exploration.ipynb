{
 "cells": [
  {
   "cell_type": "markdown",
   "id": "fb9b76ac-2dbc-4392-8854-d8f016a3a3c2",
   "metadata": {},
   "source": [
    "# Exploration simulation of a Molten NaCl Salt with OpenMM\n",
    "\n",
    "This notebook performs an NpT equilibration followed by an NVE production run.\n",
    "The NVE simulation is intended for a first analysis of a system,\n",
    "to get a basic idea of the time scales of this system,\n",
    "which will be used to determine the simulation time and block size for the production run.\n",
    "\n",
    "The Born-Huggins-Mayer-Tosi-Fumi force field for NaCl is implemented in `bhmtf.py`.\n",
    "The MD implementation and some related utility functions can be found in `utils.py`.\n",
    "This notebook merely ties these two together and performs some basic sanity checks on the reults.\n",
    "\n",
    "You can use this notebook as such, but it is also designed to be used as a step in a StepUp workflow\n",
    "that performs all the MD simulations for a reasonably accurate computation of the conductivity of NaCl."
   ]
  },
  {
   "cell_type": "code",
   "execution_count": null,
   "id": "5f785c8f-a7c9-4dc0-8c24-0ac100b21afe",
   "metadata": {},
   "outputs": [],
   "source": [
    "import mdtraj\n",
    "import nglview\n",
    "from bhmtf import add_nacl_forces, build_nacl_lattice\n",
    "from openmm import unit\n",
    "from openmm.app import PDBFile\n",
    "from stepup.core.api import amend\n",
    "from utils import make_plots, runmd"
   ]
  },
  {
   "cell_type": "code",
   "execution_count": null,
   "id": "515f945f",
   "metadata": {},
   "outputs": [],
   "source": [
    "# Inform StepUp of the output files it should expect, and which files are used as inputs.\n",
    "amend(\n",
    "    inp=[\n",
    "        \"bhmtf.py\",\n",
    "        \"utils.py\",\n",
    "    ],\n",
    "    out=[\n",
    "        \"output/exploration_init.pdb\",\n",
    "        \"output/exploration_npt_final.pdb\",\n",
    "        \"output/exploration_npt_scalars.csv\",\n",
    "        \"output/exploration_npt_traj.dcd\",\n",
    "        \"output/exploration_npt_traj.npz\",\n",
    "        \"output/exploration_nve_final.pdb\",\n",
    "        \"output/exploration_nve_scalars.csv\",\n",
    "        \"output/exploration_nve_traj.dcd\",\n",
    "        \"output/exploration_nve_traj.npz\",\n",
    "    ],\n",
    ")"
   ]
  },
  {
   "cell_type": "markdown",
   "id": "8cc9d2d4",
   "metadata": {},
   "source": [
    "## Simulation settings and initial state"
   ]
  },
  {
   "cell_type": "code",
   "execution_count": null,
   "id": "b3745477-6f96-465c-8db1-c6d5b0609363",
   "metadata": {},
   "outputs": [],
   "source": [
    "# Physical parameters\n",
    "temperature = 1100 * unit.kelvin\n",
    "pressure = 1 * unit.bar\n",
    "\n",
    "# The simulation density from https://doi.org/10.1021/jp5050332 is only used for initialization.\n",
    "density = 1.4444 * unit.gram / unit.centimeter**3\n",
    "\n",
    "# Time-related settings\n",
    "timestep = 5 * unit.femtosecond\n",
    "stride = 10\n",
    "nstep_npt = 10000\n",
    "tau_thermostat = 1 * unit.picosecond\n",
    "nstep_nve = 10000"
   ]
  },
  {
   "cell_type": "code",
   "execution_count": null,
   "id": "311d5285",
   "metadata": {},
   "outputs": [],
   "source": [
    "# Build initial state (1728 = (6*2)**3 ions)\n",
    "# Same settings as in Wang 2020 (https://doi.org/10.1063/5.0023225)\n",
    "system, topology, atnums, atcoords_init = build_nacl_lattice(6, density)\n",
    "add_nacl_forces(system, topology, do_charge=True, cutoff=1.5 * unit.nanometer)\n",
    "\n",
    "# Visualize the initial geometry.\n",
    "with open(\"output/exploration_init.pdb\", \"w\") as f:\n",
    "    PDBFile.writeFile(topology, atcoords_init, f)\n",
    "view = nglview.show_mdtraj(mdtraj.load(\"output/exploration_init.pdb\"))\n",
    "view.add_unitcell()\n",
    "view"
   ]
  },
  {
   "cell_type": "markdown",
   "id": "d4e0e319",
   "metadata": {},
   "source": [
    "## Equilibration in the NPT ensemble"
   ]
  },
  {
   "cell_type": "code",
   "execution_count": null,
   "id": "6956f0cd",
   "metadata": {},
   "outputs": [],
   "source": [
    "atcoords_npt, atvels_npt = runmd(\n",
    "    \"exploration_npt\",\n",
    "    system,\n",
    "    topology,\n",
    "    atcoords_init,\n",
    "    nstep=nstep_npt,\n",
    "    timestep=timestep,\n",
    "    stride=stride,\n",
    "    temperature=temperature,\n",
    "    pressure=pressure,\n",
    ")"
   ]
  },
  {
   "cell_type": "code",
   "execution_count": null,
   "id": "fd052e08-851b-4556-82ab-2807a54a4072",
   "metadata": {},
   "outputs": [],
   "source": [
    "traj = mdtraj.load(\"output/exploration_npt_traj.dcd\", top=\"output/exploration_init.pdb\")\n",
    "view = nglview.show_mdtraj(traj)\n",
    "view.add_unitcell()\n",
    "view"
   ]
  },
  {
   "cell_type": "code",
   "execution_count": null,
   "id": "47f53822",
   "metadata": {},
   "outputs": [],
   "source": [
    "make_plots(\"exploration_npt\")"
   ]
  },
  {
   "cell_type": "markdown",
   "id": "f85a7c99",
   "metadata": {},
   "source": [
    "## Production in the NVE ensemble"
   ]
  },
  {
   "cell_type": "code",
   "execution_count": null,
   "id": "b855311b",
   "metadata": {},
   "outputs": [],
   "source": [
    "atcoords_end = runmd(\n",
    "    \"exploration_nve\",\n",
    "    system,\n",
    "    topology,\n",
    "    atcoords_npt,\n",
    "    nstep=nstep_nve,\n",
    "    timestep=timestep,\n",
    "    stride=stride,\n",
    "    atvels=atvels_npt,\n",
    ")"
   ]
  },
  {
   "cell_type": "code",
   "execution_count": null,
   "id": "94a29d2f",
   "metadata": {},
   "outputs": [],
   "source": [
    "traj = mdtraj.load(\"output/exploration_nve_traj.dcd\", top=\"output/exploration_init.pdb\")\n",
    "view = nglview.show_mdtraj(traj)\n",
    "view.add_unitcell()\n",
    "view"
   ]
  },
  {
   "cell_type": "code",
   "execution_count": null,
   "id": "df6899a9",
   "metadata": {},
   "outputs": [],
   "source": [
    "make_plots(\"exploration_nve\")"
   ]
  }
 ],
 "metadata": {
  "kernelspec": {
   "display_name": "venv",
   "language": "python",
   "name": "python3"
  },
  "language_info": {
   "codemirror_mode": {
    "name": "ipython",
    "version": 3
   },
   "file_extension": ".py",
   "mimetype": "text/x-python",
   "name": "python",
   "nbconvert_exporter": "python",
   "pygments_lexer": "ipython3"
  }
 },
 "nbformat": 4,
 "nbformat_minor": 5
}
