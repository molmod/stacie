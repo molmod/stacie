{
 "cells": [
  {
   "cell_type": "markdown",
   "metadata": {},
   "source": [
    "# Production simulation of a Molten NaCl Salt with OpenMM\n",
    "\n",
    "The settings are practically identical to `exploration.ipynb`, the only differences are:\n",
    "\n",
    "- Restart from the last snapshot of the exploration.\n",
    "- The environment variable `REREP_NBARGS` is used to set the seed for the random initialization\n",
    "  of the thermostat and the velocities.\n"
   ]
  },
  {
   "cell_type": "code",
   "execution_count": null,
   "metadata": {},
   "outputs": [],
   "source": [
    "import json\n",
    "import os\n",
    "\n",
    "import mdtraj\n",
    "import nglview\n",
    "from bhmtf import add_nacl_forces, load_nacl\n",
    "from openmm import unit\n",
    "from stepup.core.api import amend\n",
    "from utils import make_plots, runmd"
   ]
  },
  {
   "cell_type": "code",
   "execution_count": null,
   "metadata": {},
   "outputs": [],
   "source": [
    "# Determine the random seed\n",
    "arguments = {\"seed\": 42}\n",
    "nbargs = os.getenv(\"REPREP_NBARGS\")\n",
    "if nbargs is not None:\n",
    "    arguments.update(json.loads(nbargs))\n",
    "seed = arguments[\"seed\"]\n",
    "prefix = f\"prod{seed:04d}\""
   ]
  },
  {
   "cell_type": "code",
   "execution_count": null,
   "metadata": {},
   "outputs": [],
   "source": [
    "# Inform StepUp of the output files it should expect, and which files are used as inputs.\n",
    "amend(\n",
    "    inp=[\n",
    "        \"bhmtf.py\",\n",
    "        \"utils.py\",\n",
    "        \"output/exploration_nve_final.pdb\",\n",
    "    ],\n",
    "    out=[\n",
    "        f\"output/prod{seed:04d}_npt_final.pdb\",\n",
    "        f\"output/prod{seed:04d}_npt_scalars.csv\",\n",
    "        f\"output/prod{seed:04d}_npt_traj.dcd\",\n",
    "        f\"output/prod{seed:04d}_npt_traj.npz\",\n",
    "        f\"output/prod{seed:04d}_nve_final.pdb\",\n",
    "        f\"output/prod{seed:04d}_nve_scalars.csv\",\n",
    "        f\"output/prod{seed:04d}_nve_traj.dcd\",\n",
    "        f\"output/prod{seed:04d}_nve_traj.npz\",\n",
    "    ],\n",
    ")"
   ]
  },
  {
   "cell_type": "markdown",
   "metadata": {},
   "source": [
    "## Simulation settings and initial state"
   ]
  },
  {
   "cell_type": "code",
   "execution_count": null,
   "metadata": {},
   "outputs": [],
   "source": [
    "# Physical parameters\n",
    "temperature = 1100 * unit.kelvin\n",
    "pressure = 1 * unit.bar\n",
    "\n",
    "# Time-related settings\n",
    "timestep = 5 * unit.femtosecond\n",
    "stride = 4\n",
    "nstep_npt = 10000\n",
    "tau_thermostat = 1 * unit.picosecond\n",
    "nstep_nve = 12000\n",
    "\n",
    "# Load the final structure of the exploration run.\n",
    "system, topology, atnums, atcoords_init = load_nacl(\"output/exploration_nve_final.pdb\")\n",
    "add_nacl_forces(system, topology, do_charge=True, cutoff=1.5 * unit.nanometer)"
   ]
  },
  {
   "cell_type": "markdown",
   "metadata": {},
   "source": [
    "## Re-equilibration in the NPT ensemble"
   ]
  },
  {
   "cell_type": "code",
   "execution_count": null,
   "metadata": {},
   "outputs": [],
   "source": [
    "atcoords_equi, atvels_equi = runmd(\n",
    "    f\"{prefix}_npt\",\n",
    "    system,\n",
    "    topology,\n",
    "    atcoords_init,\n",
    "    nstep=nstep_npt,\n",
    "    timestep=timestep,\n",
    "    stride=stride,\n",
    "    temperature=temperature,\n",
    "    pressure=pressure,\n",
    "    seed=seed,\n",
    ")"
   ]
  },
  {
   "cell_type": "code",
   "execution_count": null,
   "metadata": {},
   "outputs": [],
   "source": [
    "traj = mdtraj.load(f\"output/{prefix}_npt_traj.dcd\", top=\"output/exploration_init.pdb\")\n",
    "view = nglview.show_mdtraj(traj)\n",
    "view.add_unitcell()\n",
    "view"
   ]
  },
  {
   "cell_type": "code",
   "execution_count": null,
   "metadata": {},
   "outputs": [],
   "source": [
    "make_plots(f\"{prefix}_npt\")"
   ]
  },
  {
   "cell_type": "markdown",
   "metadata": {},
   "source": [
    "## Production in the NVE ensemble"
   ]
  },
  {
   "cell_type": "code",
   "execution_count": null,
   "metadata": {},
   "outputs": [],
   "source": [
    "atcoords_end = runmd(\n",
    "    f\"{prefix}_nve\",\n",
    "    system,\n",
    "    topology,\n",
    "    atcoords_equi,\n",
    "    nstep=nstep_nve,\n",
    "    timestep=timestep,\n",
    "    stride=stride,\n",
    "    atvels=atvels_equi,\n",
    ")"
   ]
  },
  {
   "cell_type": "code",
   "execution_count": null,
   "metadata": {},
   "outputs": [],
   "source": [
    "traj = mdtraj.load(f\"output/{prefix}_nve_traj.dcd\", top=\"output/exploration_init.pdb\")\n",
    "view = nglview.show_mdtraj(traj)\n",
    "view.add_unitcell()\n",
    "view"
   ]
  },
  {
   "cell_type": "code",
   "execution_count": null,
   "metadata": {},
   "outputs": [],
   "source": [
    "make_plots(f\"{prefix}_nve\")"
   ]
  }
 ],
 "metadata": {
  "kernelspec": {
   "display_name": "venv",
   "language": "python",
   "name": "python3"
  },
  "language_info": {
   "codemirror_mode": {
    "name": "ipython",
    "version": 3
   },
   "file_extension": ".py",
   "mimetype": "text/x-python",
   "name": "python",
   "nbconvert_exporter": "python",
   "pygments_lexer": "ipython3"
  }
 },
 "nbformat": 4,
 "nbformat_minor": 2
}
